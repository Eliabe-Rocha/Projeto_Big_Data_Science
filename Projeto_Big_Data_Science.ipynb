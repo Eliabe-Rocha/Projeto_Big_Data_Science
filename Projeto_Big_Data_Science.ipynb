{
  "nbformat": 4,
  "nbformat_minor": 0,
  "metadata": {
    "colab": {
      "provenance": []
    },
    "kernelspec": {
      "name": "python3",
      "display_name": "Python 3"
    },
    "language_info": {
      "name": "python"
    }
  },
  "cells": [
    {
      "cell_type": "markdown",
      "source": [
        "## 1. Importando pacotes e dados para manipulação."
      ],
      "metadata": {
        "id": "GtP-Twbw7oA4"
      }
    },
    {
      "cell_type": "code",
      "execution_count": 2,
      "metadata": {
        "id": "J_WrL0q2lgJj",
        "colab": {
          "base_uri": "https://localhost:8080/"
        },
        "outputId": "094f6283-e42a-4158-e788-215abcb2bcad"
      },
      "outputs": [
        {
          "output_type": "stream",
          "name": "stdout",
          "text": [
            "Drive already mounted at /content/drive; to attempt to forcibly remount, call drive.mount(\"/content/drive\", force_remount=True).\n"
          ]
        }
      ],
      "source": [
        "import pandas as pd\n",
        "import numpy as np\n",
        "from statsmodels import *\n",
        "import plotly.express as px\n",
        "from google.colab import drive\n",
        "drive.mount('/content/drive')\n",
        "import math"
      ]
    },
    {
      "cell_type": "code",
      "source": [
        "path_url = \"/content/drive/MyDrive/Cursos/Semantix/Projeto_Final/MICRODADOS_ENEM_2021.csv\"\n",
        "base = pd.read_csv(path_url, encoding=\"ISO-8859-1\", sep=\";\")\n",
        "base.shape"
      ],
      "metadata": {
        "id": "whDARsp7U4Uq",
        "colab": {
          "base_uri": "https://localhost:8080/"
        },
        "outputId": "fd282ce4-cc39-4148-a970-1fcf3492c0fb"
      },
      "execution_count": 3,
      "outputs": [
        {
          "output_type": "execute_result",
          "data": {
            "text/plain": [
              "(3389832, 76)"
            ]
          },
          "metadata": {},
          "execution_count": 3
        }
      ]
    },
    {
      "cell_type": "code",
      "source": [
        "base.columns"
      ],
      "metadata": {
        "colab": {
          "base_uri": "https://localhost:8080/"
        },
        "id": "JU4JkQJ98OSv",
        "outputId": "87addcbc-246e-44ac-c1d7-8821967424a8"
      },
      "execution_count": 4,
      "outputs": [
        {
          "output_type": "execute_result",
          "data": {
            "text/plain": [
              "Index(['NU_INSCRICAO', 'NU_ANO', 'TP_FAIXA_ETARIA', 'TP_SEXO',\n",
              "       'TP_ESTADO_CIVIL', 'TP_COR_RACA', 'TP_NACIONALIDADE', 'TP_ST_CONCLUSAO',\n",
              "       'TP_ANO_CONCLUIU', 'TP_ESCOLA', 'TP_ENSINO', 'IN_TREINEIRO',\n",
              "       'CO_MUNICIPIO_ESC', 'NO_MUNICIPIO_ESC', 'CO_UF_ESC', 'SG_UF_ESC',\n",
              "       'TP_DEPENDENCIA_ADM_ESC', 'TP_LOCALIZACAO_ESC', 'TP_SIT_FUNC_ESC',\n",
              "       'CO_MUNICIPIO_PROVA', 'NO_MUNICIPIO_PROVA', 'CO_UF_PROVA',\n",
              "       'SG_UF_PROVA', 'TP_PRESENCA_CN', 'TP_PRESENCA_CH', 'TP_PRESENCA_LC',\n",
              "       'TP_PRESENCA_MT', 'CO_PROVA_CN', 'CO_PROVA_CH', 'CO_PROVA_LC',\n",
              "       'CO_PROVA_MT', 'NU_NOTA_CN', 'NU_NOTA_CH', 'NU_NOTA_LC', 'NU_NOTA_MT',\n",
              "       'TX_RESPOSTAS_CN', 'TX_RESPOSTAS_CH', 'TX_RESPOSTAS_LC',\n",
              "       'TX_RESPOSTAS_MT', 'TP_LINGUA', 'TX_GABARITO_CN', 'TX_GABARITO_CH',\n",
              "       'TX_GABARITO_LC', 'TX_GABARITO_MT', 'TP_STATUS_REDACAO',\n",
              "       'NU_NOTA_COMP1', 'NU_NOTA_COMP2', 'NU_NOTA_COMP3', 'NU_NOTA_COMP4',\n",
              "       'NU_NOTA_COMP5', 'NU_NOTA_REDACAO', 'Q001', 'Q002', 'Q003', 'Q004',\n",
              "       'Q005', 'Q006', 'Q007', 'Q008', 'Q009', 'Q010', 'Q011', 'Q012', 'Q013',\n",
              "       'Q014', 'Q015', 'Q016', 'Q017', 'Q018', 'Q019', 'Q020', 'Q021', 'Q022',\n",
              "       'Q023', 'Q024', 'Q025'],\n",
              "      dtype='object')"
            ]
          },
          "metadata": {},
          "execution_count": 4
        }
      ]
    },
    {
      "cell_type": "markdown",
      "source": [
        "Com base no dicionário dos dados, nem todas as variáveis fazem sentido para esse projeto, logo, para diminuir o tempo de processamento das análises e uso de espaço de armazenamento, será feito um *slicing* dos dados.\n",
        "As variáveis selecionadas foram:\n",
        "\n",
        "1.   NU_INSCRICAO\n",
        "2.   TP_FAIXA_ETARIA\n",
        "3.   TP_SEXO\n",
        "4.   TP_ESTADO_CIVIL\n",
        "5.   TP_COR_RACA\n",
        "6.   TP_NACIONALIDADE\n",
        "7.   TP_ESCOLA\n",
        "8.   TP_ENSINO\n",
        "9.   IN_TREINEIRO\n",
        "10.  SG_UF_ESC\n",
        "11.  TP_DEPENDENCIA_ADM_ESC\n",
        "12.  TP_LOCALIZACAO_ESC\n",
        "13.  TP_PRESENCA_CN\n",
        "14.  TP_PRESENCA_CH\n",
        "15.  TP_PRESENCA_LC\n",
        "16.  TP_PRESENCA_MT\n",
        "17.  NU_NOTA_CN\n",
        "18.  NU_NOTA_CH\n",
        "19.  NU_NOTA_LC\n",
        "20.  NU_NOTA_MT\n",
        "21.  TP_STATUS_REDACAO\n",
        "22.  NU_NOTA_REDACAO\n",
        "23.  Q001\n",
        "24.  Q002\n",
        "25.  Q003\n",
        "26.  Q004\n",
        "27.  Q005\n",
        "28.  Q006\n",
        "29.  Q024\n",
        "30.  Q025\n"
      ],
      "metadata": {
        "id": "wFTyEhWS8R01"
      }
    },
    {
      "cell_type": "code",
      "source": [
        "lista_var = ['NU_INSCRICAO','TP_FAIXA_ETARIA', 'TP_SEXO', 'TP_ESTADO_CIVIL', 'TP_COR_RACA', 'TP_NACIONALIDADE', \n",
        "             'TP_ESCOLA', 'TP_ENSINO', 'IN_TREINEIRO', 'SG_UF_ESC', 'TP_DEPENDENCIA_ADM_ESC', 'TP_LOCALIZACAO_ESC',\n",
        "             'SG_UF_PROVA', 'TP_PRESENCA_CN', 'TP_PRESENCA_CH', 'TP_PRESENCA_LC', 'TP_PRESENCA_MT', 'NU_NOTA_CN', \n",
        "             'NU_NOTA_CH', 'NU_NOTA_LC', 'NU_NOTA_MT', 'TP_STATUS_REDACAO', 'NU_NOTA_REDACAO', 'Q001', 'Q002', 'Q003',\n",
        "             'Q004', 'Q005', 'Q006', 'Q024', 'Q025']\n",
        "base = base[lista_var]"
      ],
      "metadata": {
        "id": "1KF4HzWT-cG-"
      },
      "execution_count": 5,
      "outputs": []
    },
    {
      "cell_type": "code",
      "source": [
        "var_num = base.select_dtypes('number').columns\n",
        "var_cat = base.select_dtypes('object').columns\n",
        "print(var_num)\n",
        "print(var_cat)"
      ],
      "metadata": {
        "colab": {
          "base_uri": "https://localhost:8080/"
        },
        "id": "17K4RE8TXd5p",
        "outputId": "96522e59-ad97-4d49-a06c-a5aa293b9dfe"
      },
      "execution_count": 6,
      "outputs": [
        {
          "output_type": "stream",
          "name": "stdout",
          "text": [
            "Index(['NU_INSCRICAO', 'TP_FAIXA_ETARIA', 'TP_ESTADO_CIVIL', 'TP_COR_RACA',\n",
            "       'TP_NACIONALIDADE', 'TP_ESCOLA', 'TP_ENSINO', 'IN_TREINEIRO',\n",
            "       'TP_DEPENDENCIA_ADM_ESC', 'TP_LOCALIZACAO_ESC', 'TP_PRESENCA_CN',\n",
            "       'TP_PRESENCA_CH', 'TP_PRESENCA_LC', 'TP_PRESENCA_MT', 'NU_NOTA_CN',\n",
            "       'NU_NOTA_CH', 'NU_NOTA_LC', 'NU_NOTA_MT', 'TP_STATUS_REDACAO',\n",
            "       'NU_NOTA_REDACAO', 'Q005'],\n",
            "      dtype='object')\n",
            "Index(['TP_SEXO', 'SG_UF_ESC', 'SG_UF_PROVA', 'Q001', 'Q002', 'Q003', 'Q004',\n",
            "       'Q006', 'Q024', 'Q025'],\n",
            "      dtype='object')\n"
          ]
        }
      ]
    },
    {
      "cell_type": "markdown",
      "source": [
        "> #### Ainda é necesssário adicoinar duas variáveis para fins deste projeto. A variável *NU_MEDIA* será a média aritmética das notas dos partipantes. Além desta, também será adiconada a variável *REGIAO*, que agrupará os participantes por marcroregiões do país.\n",
        "\n",
        "\n"
      ],
      "metadata": {
        "id": "fr3VCZL_EF9d"
      }
    },
    {
      "cell_type": "code",
      "source": [
        "#from pandas.core.window.expanding import Axis\n",
        "# Criação da variavel de média geral\n",
        "base['NU_MEDIA'] = base[['NU_NOTA_CN', 'NU_NOTA_CH', 'NU_NOTA_LC', 'NU_NOTA_MT', 'NU_NOTA_REDACAO']].sum(axis = 1) / 5\n",
        "\n",
        "# Criação da variavel de região\n",
        "Norte = ['AM', 'PA', 'RR', 'AC','RO','AP', 'TO']\n",
        "Sul = ['PR', 'SC', 'RS']\n",
        "CentroOeste = ['MT', 'MS', 'GO', 'DF']\n",
        "Nordeste = ['BA', 'CE','MA', 'PB', 'PE', 'RN', 'SE', 'AL', 'PI']\n",
        "Sudeste = ['SP', 'RJ', 'MG','ES']\n",
        "\n",
        "base['REGIAO'] = base['SG_UF_ESC'].apply(lambda x: 'Sul' if x in Sul else 'Norte' if x in Norte else \n",
        "                                         'Nordeste' if x in Nordeste else 'Sudeste' if x in Sudeste else 'Centro-Oeste')\n"
      ],
      "metadata": {
        "id": "XU4Yv3R8E1ZV"
      },
      "execution_count": null,
      "outputs": []
    },
    {
      "cell_type": "markdown",
      "source": [
        "\n",
        "\n",
        "> Considerando que as primeiras limpezas foram realizadas na bse original, faz-se necessário o armazenamento da da base pré-processada. Esse procedimetno permitirá uma redução no consumo de memória e tempo de load caso haja necessidade de parar o projeto e retornar postiormente.\n",
        "\n"
      ],
      "metadata": {
        "id": "xe6uon-ZTVPn"
      }
    },
    {
      "cell_type": "code",
      "source": [
        "base.to_csv(\"base.csv\", sep = \";\")"
      ],
      "metadata": {
        "id": "Il8yQHHTTUdo"
      },
      "execution_count": null,
      "outputs": []
    },
    {
      "cell_type": "markdown",
      "source": [
        "## 2. Exploração da base de dados"
      ],
      "metadata": {
        "id": "7bCCVh7eDX1g"
      }
    },
    {
      "cell_type": "code",
      "source": [
        "base.nunique()"
      ],
      "metadata": {
        "colab": {
          "base_uri": "https://localhost:8080/"
        },
        "id": "7VqP9yTfDukf",
        "outputId": "a6c5e130-e03b-48a3-8a28-30c72dac433c"
      },
      "execution_count": 7,
      "outputs": [
        {
          "output_type": "execute_result",
          "data": {
            "text/plain": [
              "NU_INSCRICAO              3389832\n",
              "TP_FAIXA_ETARIA                20\n",
              "TP_SEXO                         2\n",
              "TP_ESTADO_CIVIL                 5\n",
              "TP_COR_RACA                     7\n",
              "TP_NACIONALIDADE                5\n",
              "TP_ESCOLA                       3\n",
              "TP_ENSINO                       2\n",
              "IN_TREINEIRO                    2\n",
              "SG_UF_ESC                      27\n",
              "TP_DEPENDENCIA_ADM_ESC          4\n",
              "TP_LOCALIZACAO_ESC              2\n",
              "SG_UF_PROVA                    27\n",
              "TP_PRESENCA_CN                  3\n",
              "TP_PRESENCA_CH                  3\n",
              "TP_PRESENCA_LC                  3\n",
              "TP_PRESENCA_MT                  3\n",
              "NU_NOTA_CN                   5030\n",
              "NU_NOTA_CH                   4874\n",
              "NU_NOTA_LC                   4728\n",
              "NU_NOTA_MT                   6149\n",
              "TP_STATUS_REDACAO               8\n",
              "NU_NOTA_REDACAO                50\n",
              "Q001                            8\n",
              "Q002                            8\n",
              "Q003                            6\n",
              "Q004                            6\n",
              "Q005                           20\n",
              "Q006                           17\n",
              "Q024                            5\n",
              "Q025                            2\n",
              "dtype: int64"
            ]
          },
          "metadata": {},
          "execution_count": 7
        }
      ]
    },
    {
      "cell_type": "markdown",
      "source": [
        "\n",
        "\n",
        "> Verficiando o número de valores ausentes.\n",
        "\n"
      ],
      "metadata": {
        "id": "MnImpeIQKSFi"
      }
    },
    {
      "cell_type": "code",
      "source": [
        "base.isnull().sum()"
      ],
      "metadata": {
        "colab": {
          "base_uri": "https://localhost:8080/"
        },
        "id": "IDLFpYHQIvaY",
        "outputId": "10f5126a-3be2-4994-d0a2-85d086fab99d"
      },
      "execution_count": 8,
      "outputs": [
        {
          "output_type": "execute_result",
          "data": {
            "text/plain": [
              "NU_INSCRICAO                    0\n",
              "TP_FAIXA_ETARIA                 0\n",
              "TP_SEXO                         0\n",
              "TP_ESTADO_CIVIL                 0\n",
              "TP_COR_RACA                     0\n",
              "TP_NACIONALIDADE                0\n",
              "TP_ESCOLA                       0\n",
              "TP_ENSINO                 2293004\n",
              "IN_TREINEIRO                    0\n",
              "SG_UF_ESC                 2576026\n",
              "TP_DEPENDENCIA_ADM_ESC    2576026\n",
              "TP_LOCALIZACAO_ESC        2576026\n",
              "SG_UF_PROVA                     0\n",
              "TP_PRESENCA_CN                  0\n",
              "TP_PRESENCA_CH                  0\n",
              "TP_PRESENCA_LC                  0\n",
              "TP_PRESENCA_MT                  0\n",
              "NU_NOTA_CN                1143988\n",
              "NU_NOTA_CH                1011453\n",
              "NU_NOTA_LC                1011453\n",
              "NU_NOTA_MT                1143988\n",
              "TP_STATUS_REDACAO         1011453\n",
              "NU_NOTA_REDACAO           1011453\n",
              "Q001                            2\n",
              "Q002                            2\n",
              "Q003                            2\n",
              "Q004                            2\n",
              "Q005                            2\n",
              "Q006                            2\n",
              "Q024                            2\n",
              "Q025                            2\n",
              "dtype: int64"
            ]
          },
          "metadata": {},
          "execution_count": 8
        }
      ]
    },
    {
      "cell_type": "code",
      "source": [
        "1143988/3389832"
      ],
      "metadata": {
        "colab": {
          "base_uri": "https://localhost:8080/"
        },
        "id": "ZOM6HTNpZhGU",
        "outputId": "e7a0a724-5d60-44e0-8c79-1a213b83a0d4"
      },
      "execution_count": 31,
      "outputs": [
        {
          "output_type": "execute_result",
          "data": {
            "text/plain": [
              "0.33747631151042295"
            ]
          },
          "metadata": {},
          "execution_count": 31
        }
      ]
    },
    {
      "cell_type": "markdown",
      "source": [
        "> ### 2.1 Tratando valores Nulos\n",
        "\n",
        "> * <p align = 'justify'>Visto que a quantidade de dados faltantes nas variáveis sócioeconômicas(Q001 à Q0025) é baixa (2 observações), optou-se por excluí-las.</p>\n",
        "\n",
        "> * <p align = 'justify'>Porém há um ponto de atenção nessa base quanto aos <i>missing values</i>. As variáveis de nota dos alunos, mas principalmente as variáveis de tipo de escola(pública ou privada), Estado da escola, dependência administrativa(federal, estadual, municipal ou privada) e localização(urbana ou rural) tem valores faltantes que representam até 76% da base total.</p>\n",
        "\n",
        "> * <p align = 'justify'>A variável <i>SG_UF_ESC</i> diz respeito ao Estado a qual Estado o participante estudou durante o ensino médio. Saber essa informação nos ajuda a entender, por exemplo, se o desempenho dos alunos daquele estado foi melhor ou pior se comparado com os demais. Dessa forma, considerando seu uso para fins de perfilização, os dados nulos na variável de localização serão substituidos pelo dados que compõem a variável de local de realização da prova, partindo do pressuposto que este seja o mesmo para <b>maioria</b> dos candidatos.</p>\n",
        "\n",
        "> * <p align = 'justify'>Quanto as variáveis de dependência administrativa, TP_ENSINO e localização, serão mantidas por enquanto a fim de explorarmos o perfil dos que não preencheram tais informações. </p>\n",
        "\n",
        "> * <p align = 'justify'>Sobre as variáveis de média em cada eixo da prova, constatou-se que ao menos <b>29% dos participantes (1.003.716)</b> faltaram ou foram eliminados de pelo menos uma prova. Destes, <b>759.327, ou 75% dos 1.003.716, apresentam renda de até 2 salários mínimos (R$ 2.200,00)</b>. Embora esse fato não ateste uma relação direta, abre margem para os motivos do não comparecimento ou eliminação do participante, como acesso ao loval de prova, por exemplo. </p>\n",
        "\n",
        "> * <p align = 'justify'> <s>Sobre, as variáveis de média dos participantes optou-se por uma estratégia mais simples, substituindo os valores nulos pela média geral, considerando que assim não haverá grandes discrepância na disribuição dos dados de média.</s></p>"
      ],
      "metadata": {
        "id": "DHsZWYJtQAsA"
      }
    },
    {
      "cell_type": "code",
      "source": [
        "(341648 + 202665 + 135689 + 79325)/1003716"
      ],
      "metadata": {
        "colab": {
          "base_uri": "https://localhost:8080/"
        },
        "id": "ShiOw5KKaSym",
        "outputId": "8fc07e06-011d-45a8-d577-c1f9a9109243"
      },
      "execution_count": 12,
      "outputs": [
        {
          "output_type": "execute_result",
          "data": {
            "text/plain": [
              "0.7565157873342658"
            ]
          },
          "metadata": {},
          "execution_count": 12
        }
      ]
    },
    {
      "cell_type": "code",
      "source": [
        "x = base[(base['TP_PRESENCA_CH'] != 1) & (base['TP_PRESENCA_CN'] != 1) & \n",
        "         (base['TP_PRESENCA_LC'] != 1) & (base['TP_PRESENCA_MT'] != 1)]\n",
        "\n",
        "x[['Q002', 'Q001']].value_counts()"
      ],
      "metadata": {
        "colab": {
          "base_uri": "https://localhost:8080/"
        },
        "id": "9ClTNqV8ZzLy",
        "outputId": "1369d826-8a31-4db3-8a08-9bcbdc224468"
      },
      "execution_count": 20,
      "outputs": [
        {
          "output_type": "execute_result",
          "data": {
            "text/plain": [
              "Q002  Q001\n",
              "E     E       123323\n",
              "B     B       121812\n",
              "C     C        50212\n",
              "E     B        45138\n",
              "C     B        39753\n",
              "               ...  \n",
              "G     A          476\n",
              "H     F          414\n",
              "      G          217\n",
              "A     F          216\n",
              "      G           84\n",
              "Length: 64, dtype: int64"
            ]
          },
          "metadata": {},
          "execution_count": 20
        }
      ]
    },
    {
      "cell_type": "code",
      "source": [
        "# Preenchimento de NA's na variável de Estado em que cursou o ensino médio, por valores do local de prova\n",
        "base['SG_UF_ESC'] = base['SG_UF_ESC'].fillna(base['SG_UF_PROVA'] ,axis = 0)\n",
        "\n",
        "# Preenchimento de NA's das variáveis de nota, por valores médios\n",
        "base['NU_NOTA_CN'] = base['NU_NOTA_CN'].fillna(base['NU_NOTA_CN'].mean() ,axis = 0)\n",
        "base['NU_NOTA_CH'] = base['NU_NOTA_CH'].fillna(base['NU_NOTA_CH'].mean() ,axis = 0)\n",
        "base['NU_NOTA_LC'] = base['NU_NOTA_LC'].fillna(base['NU_NOTA_LC'].mean() ,axis = 0)\n",
        "base['NU_NOTA_MT'] = base['NU_NOTA_MT'].fillna(base['NU_NOTA_MT'].mean() ,axis = 0)\n",
        "base['NU_NOTA_REDACAO'] = base['NU_NOTA_REDACAO'].fillna(base['NU_NOTA_REDACAO'].mean() ,axis = 0)\n"
      ],
      "metadata": {
        "id": "YU6Tsz5IVri7"
      },
      "execution_count": null,
      "outputs": []
    },
    {
      "cell_type": "code",
      "source": [
        "base[['NU_NOTA_CN', 'NU_NOTA_CH', 'NU_NOTA_LC', 'NU_NOTA_MT', 'NU_NOTA_REDACAO']].describe().round(2).T"
      ],
      "metadata": {
        "colab": {
          "base_uri": "https://localhost:8080/",
          "height": 206
        },
        "id": "tvo8WYOux1xJ",
        "outputId": "2122a5d6-4419-4769-fb0f-ffebe5cb1abe"
      },
      "execution_count": null,
      "outputs": [
        {
          "output_type": "execute_result",
          "data": {
            "text/plain": [
              "                     count    mean     std  min    25%     50%    75%     max\n",
              "NU_NOTA_CN       3389832.0  491.79   65.58  0.0  457.0  491.79  510.2   867.1\n",
              "NU_NOTA_CH       3389832.0  519.94   80.24  0.0  478.2  519.94  560.7   846.9\n",
              "NU_NOTA_LC       3389832.0  502.56   66.31  0.0  474.6  502.56  535.6   826.1\n",
              "NU_NOTA_MT       3389832.0  535.08   90.05  0.0  478.0  535.08  560.2   953.1\n",
              "NU_NOTA_REDACAO  3389832.0  613.50  159.75  0.0  560.0  613.50  660.0  1000.0"
            ],
            "text/html": [
              "\n",
              "  <div id=\"df-4bf02100-62b5-40ca-a3bd-1cf513765215\">\n",
              "    <div class=\"colab-df-container\">\n",
              "      <div>\n",
              "<style scoped>\n",
              "    .dataframe tbody tr th:only-of-type {\n",
              "        vertical-align: middle;\n",
              "    }\n",
              "\n",
              "    .dataframe tbody tr th {\n",
              "        vertical-align: top;\n",
              "    }\n",
              "\n",
              "    .dataframe thead th {\n",
              "        text-align: right;\n",
              "    }\n",
              "</style>\n",
              "<table border=\"1\" class=\"dataframe\">\n",
              "  <thead>\n",
              "    <tr style=\"text-align: right;\">\n",
              "      <th></th>\n",
              "      <th>count</th>\n",
              "      <th>mean</th>\n",
              "      <th>std</th>\n",
              "      <th>min</th>\n",
              "      <th>25%</th>\n",
              "      <th>50%</th>\n",
              "      <th>75%</th>\n",
              "      <th>max</th>\n",
              "    </tr>\n",
              "  </thead>\n",
              "  <tbody>\n",
              "    <tr>\n",
              "      <th>NU_NOTA_CN</th>\n",
              "      <td>3389832.0</td>\n",
              "      <td>491.79</td>\n",
              "      <td>65.58</td>\n",
              "      <td>0.0</td>\n",
              "      <td>457.0</td>\n",
              "      <td>491.79</td>\n",
              "      <td>510.2</td>\n",
              "      <td>867.1</td>\n",
              "    </tr>\n",
              "    <tr>\n",
              "      <th>NU_NOTA_CH</th>\n",
              "      <td>3389832.0</td>\n",
              "      <td>519.94</td>\n",
              "      <td>80.24</td>\n",
              "      <td>0.0</td>\n",
              "      <td>478.2</td>\n",
              "      <td>519.94</td>\n",
              "      <td>560.7</td>\n",
              "      <td>846.9</td>\n",
              "    </tr>\n",
              "    <tr>\n",
              "      <th>NU_NOTA_LC</th>\n",
              "      <td>3389832.0</td>\n",
              "      <td>502.56</td>\n",
              "      <td>66.31</td>\n",
              "      <td>0.0</td>\n",
              "      <td>474.6</td>\n",
              "      <td>502.56</td>\n",
              "      <td>535.6</td>\n",
              "      <td>826.1</td>\n",
              "    </tr>\n",
              "    <tr>\n",
              "      <th>NU_NOTA_MT</th>\n",
              "      <td>3389832.0</td>\n",
              "      <td>535.08</td>\n",
              "      <td>90.05</td>\n",
              "      <td>0.0</td>\n",
              "      <td>478.0</td>\n",
              "      <td>535.08</td>\n",
              "      <td>560.2</td>\n",
              "      <td>953.1</td>\n",
              "    </tr>\n",
              "    <tr>\n",
              "      <th>NU_NOTA_REDACAO</th>\n",
              "      <td>3389832.0</td>\n",
              "      <td>613.50</td>\n",
              "      <td>159.75</td>\n",
              "      <td>0.0</td>\n",
              "      <td>560.0</td>\n",
              "      <td>613.50</td>\n",
              "      <td>660.0</td>\n",
              "      <td>1000.0</td>\n",
              "    </tr>\n",
              "  </tbody>\n",
              "</table>\n",
              "</div>\n",
              "      <button class=\"colab-df-convert\" onclick=\"convertToInteractive('df-4bf02100-62b5-40ca-a3bd-1cf513765215')\"\n",
              "              title=\"Convert this dataframe to an interactive table.\"\n",
              "              style=\"display:none;\">\n",
              "        \n",
              "  <svg xmlns=\"http://www.w3.org/2000/svg\" height=\"24px\"viewBox=\"0 0 24 24\"\n",
              "       width=\"24px\">\n",
              "    <path d=\"M0 0h24v24H0V0z\" fill=\"none\"/>\n",
              "    <path d=\"M18.56 5.44l.94 2.06.94-2.06 2.06-.94-2.06-.94-.94-2.06-.94 2.06-2.06.94zm-11 1L8.5 8.5l.94-2.06 2.06-.94-2.06-.94L8.5 2.5l-.94 2.06-2.06.94zm10 10l.94 2.06.94-2.06 2.06-.94-2.06-.94-.94-2.06-.94 2.06-2.06.94z\"/><path d=\"M17.41 7.96l-1.37-1.37c-.4-.4-.92-.59-1.43-.59-.52 0-1.04.2-1.43.59L10.3 9.45l-7.72 7.72c-.78.78-.78 2.05 0 2.83L4 21.41c.39.39.9.59 1.41.59.51 0 1.02-.2 1.41-.59l7.78-7.78 2.81-2.81c.8-.78.8-2.07 0-2.86zM5.41 20L4 18.59l7.72-7.72 1.47 1.35L5.41 20z\"/>\n",
              "  </svg>\n",
              "      </button>\n",
              "      \n",
              "  <style>\n",
              "    .colab-df-container {\n",
              "      display:flex;\n",
              "      flex-wrap:wrap;\n",
              "      gap: 12px;\n",
              "    }\n",
              "\n",
              "    .colab-df-convert {\n",
              "      background-color: #E8F0FE;\n",
              "      border: none;\n",
              "      border-radius: 50%;\n",
              "      cursor: pointer;\n",
              "      display: none;\n",
              "      fill: #1967D2;\n",
              "      height: 32px;\n",
              "      padding: 0 0 0 0;\n",
              "      width: 32px;\n",
              "    }\n",
              "\n",
              "    .colab-df-convert:hover {\n",
              "      background-color: #E2EBFA;\n",
              "      box-shadow: 0px 1px 2px rgba(60, 64, 67, 0.3), 0px 1px 3px 1px rgba(60, 64, 67, 0.15);\n",
              "      fill: #174EA6;\n",
              "    }\n",
              "\n",
              "    [theme=dark] .colab-df-convert {\n",
              "      background-color: #3B4455;\n",
              "      fill: #D2E3FC;\n",
              "    }\n",
              "\n",
              "    [theme=dark] .colab-df-convert:hover {\n",
              "      background-color: #434B5C;\n",
              "      box-shadow: 0px 1px 3px 1px rgba(0, 0, 0, 0.15);\n",
              "      filter: drop-shadow(0px 1px 2px rgba(0, 0, 0, 0.3));\n",
              "      fill: #FFFFFF;\n",
              "    }\n",
              "  </style>\n",
              "\n",
              "      <script>\n",
              "        const buttonEl =\n",
              "          document.querySelector('#df-4bf02100-62b5-40ca-a3bd-1cf513765215 button.colab-df-convert');\n",
              "        buttonEl.style.display =\n",
              "          google.colab.kernel.accessAllowed ? 'block' : 'none';\n",
              "\n",
              "        async function convertToInteractive(key) {\n",
              "          const element = document.querySelector('#df-4bf02100-62b5-40ca-a3bd-1cf513765215');\n",
              "          const dataTable =\n",
              "            await google.colab.kernel.invokeFunction('convertToInteractive',\n",
              "                                                     [key], {});\n",
              "          if (!dataTable) return;\n",
              "\n",
              "          const docLinkHtml = 'Like what you see? Visit the ' +\n",
              "            '<a target=\"_blank\" href=https://colab.research.google.com/notebooks/data_table.ipynb>data table notebook</a>'\n",
              "            + ' to learn more about interactive tables.';\n",
              "          element.innerHTML = '';\n",
              "          dataTable['output_type'] = 'display_data';\n",
              "          await google.colab.output.renderOutput(dataTable, element);\n",
              "          const docLink = document.createElement('div');\n",
              "          docLink.innerHTML = docLinkHtml;\n",
              "          element.appendChild(docLink);\n",
              "        }\n",
              "      </script>\n",
              "    </div>\n",
              "  </div>\n",
              "  "
            ]
          },
          "metadata": {},
          "execution_count": 51
        }
      ]
    },
    {
      "cell_type": "code",
      "source": [
        "#base = base.dropna(subset = ['Q001'])\n",
        "base.isnull().sum()"
      ],
      "metadata": {
        "colab": {
          "base_uri": "https://localhost:8080/"
        },
        "id": "bNDj7xZ9TKc2",
        "outputId": "92a854ac-6636-44b0-f396-1db7734e38e5"
      },
      "execution_count": null,
      "outputs": [
        {
          "output_type": "execute_result",
          "data": {
            "text/plain": [
              "NU_INSCRICAO                    0\n",
              "TP_FAIXA_ETARIA                 0\n",
              "TP_SEXO                         0\n",
              "TP_ESTADO_CIVIL                 0\n",
              "TP_COR_RACA                     0\n",
              "TP_NACIONALIDADE                0\n",
              "TP_ESCOLA                       0\n",
              "TP_ENSINO                 2293004\n",
              "IN_TREINEIRO                    0\n",
              "SG_UF_ESC                       0\n",
              "TP_DEPENDENCIA_ADM_ESC    2576026\n",
              "TP_LOCALIZACAO_ESC        2576026\n",
              "SG_UF_PROVA                     0\n",
              "TP_PRESENCA_CN                  0\n",
              "TP_PRESENCA_CH                  0\n",
              "TP_PRESENCA_LC                  0\n",
              "TP_PRESENCA_MT                  0\n",
              "NU_NOTA_CN                      0\n",
              "NU_NOTA_CH                      0\n",
              "NU_NOTA_LC                      0\n",
              "NU_NOTA_MT                      0\n",
              "TP_STATUS_REDACAO         1011453\n",
              "NU_NOTA_REDACAO                 0\n",
              "Q001                            2\n",
              "Q002                            2\n",
              "Q003                            2\n",
              "Q004                            2\n",
              "Q005                            2\n",
              "Q006                            2\n",
              "Q024                            2\n",
              "Q025                            2\n",
              "dtype: int64"
            ]
          },
          "metadata": {},
          "execution_count": 53
        }
      ]
    },
    {
      "cell_type": "code",
      "source": [
        "base['TP_PRESENCA_CH'].value_counts()\n",
        "#base['TP_STATUS_REDACAO'].value_counts()"
      ],
      "metadata": {
        "colab": {
          "base_uri": "https://localhost:8080/"
        },
        "id": "VknCrOH_2kO0",
        "outputId": "cfe771a0-4c93-4644-b9e9-bb8807372099"
      },
      "execution_count": null,
      "outputs": [
        {
          "output_type": "execute_result",
          "data": {
            "text/plain": [
              "1    2378379\n",
              "0    1007397\n",
              "2       4056\n",
              "Name: TP_PRESENCA_CH, dtype: int64"
            ]
          },
          "metadata": {},
          "execution_count": 62
        }
      ]
    },
    {
      "cell_type": "code",
      "source": [
        "#x = base['TP_STATUS_REDACAO'].isnull()\n",
        "base[base['TP_STATUS_REDACAO'] != np.NaN]"
      ],
      "metadata": {
        "colab": {
          "base_uri": "https://localhost:8080/",
          "height": 488
        },
        "id": "DMpFFsXY1v9B",
        "outputId": "49b28d74-20c1-48d7-9fcf-38c1880256e4"
      },
      "execution_count": null,
      "outputs": [
        {
          "output_type": "execute_result",
          "data": {
            "text/plain": [
              "         NU_INSCRICAO  TP_FAIXA_ETARIA TP_SEXO  TP_ESTADO_CIVIL  TP_COR_RACA  \\\n",
              "0        210053865474                5       F                1            1   \n",
              "1        210052384164               12       M                1            1   \n",
              "2        210052589243               13       F                3            1   \n",
              "3        210052128335                3       M                1            3   \n",
              "4        210051353021                2       F                1            3   \n",
              "...               ...              ...     ...              ...          ...   \n",
              "3389827  210053249138                7       F                1            3   \n",
              "3389828  210053776013                7       F                1            1   \n",
              "3389829  210052441508               13       F                1            3   \n",
              "3389830  210051139675                7       F                1            1   \n",
              "3389831  210052410399               12       F                2            3   \n",
              "\n",
              "         TP_NACIONALIDADE  TP_ESCOLA  TP_ENSINO  IN_TREINEIRO SG_UF_ESC  ...  \\\n",
              "0                       1          1        NaN             0       NaN  ...   \n",
              "1                       1          1        NaN             0       NaN  ...   \n",
              "2                       1          1        NaN             0       NaN  ...   \n",
              "3                       1          2        1.0             0        CE  ...   \n",
              "4                       1          2        1.0             0        CE  ...   \n",
              "...                   ...        ...        ...           ...       ...  ...   \n",
              "3389827                 1          1        NaN             0       NaN  ...   \n",
              "3389828                 1          1        NaN             0       NaN  ...   \n",
              "3389829                 1          1        NaN             0       NaN  ...   \n",
              "3389830                 1          1        NaN             0       NaN  ...   \n",
              "3389831                 1          1        NaN             0       NaN  ...   \n",
              "\n",
              "         TP_STATUS_REDACAO  NU_NOTA_REDACAO Q001  Q002  Q003  Q004  Q005  \\\n",
              "0                      1.0            760.0    F     F     B     B   3.0   \n",
              "1                      1.0            560.0    B     B     B     B   3.0   \n",
              "2                      NaN              NaN    B     C     C     B   3.0   \n",
              "3                      1.0            780.0    B     B     B     B   6.0   \n",
              "4                      1.0            780.0    D     E     F     D   4.0   \n",
              "...                    ...              ...  ...   ...   ...   ...   ...   \n",
              "3389827                NaN              NaN    B     B     B     B   5.0   \n",
              "3389828                NaN              NaN    E     E     A     F   4.0   \n",
              "3389829                NaN              NaN    B     C     C     B   1.0   \n",
              "3389830                1.0            660.0    E     D     C     B   4.0   \n",
              "3389831                NaN              NaN  NaN   NaN   NaN   NaN   NaN   \n",
              "\n",
              "         Q006  Q024  Q025  \n",
              "0           D     B     B  \n",
              "1           B     A     A  \n",
              "2           C     B     B  \n",
              "3           B     B     B  \n",
              "4           C     B     B  \n",
              "...       ...   ...   ...  \n",
              "3389827     C     A     B  \n",
              "3389828     G     B     B  \n",
              "3389829     F     B     B  \n",
              "3389830     E     C     B  \n",
              "3389831   NaN   NaN   NaN  \n",
              "\n",
              "[3389832 rows x 31 columns]"
            ],
            "text/html": [
              "\n",
              "  <div id=\"df-b3be523b-2ac4-4c9a-9ac9-c5e7ae303374\">\n",
              "    <div class=\"colab-df-container\">\n",
              "      <div>\n",
              "<style scoped>\n",
              "    .dataframe tbody tr th:only-of-type {\n",
              "        vertical-align: middle;\n",
              "    }\n",
              "\n",
              "    .dataframe tbody tr th {\n",
              "        vertical-align: top;\n",
              "    }\n",
              "\n",
              "    .dataframe thead th {\n",
              "        text-align: right;\n",
              "    }\n",
              "</style>\n",
              "<table border=\"1\" class=\"dataframe\">\n",
              "  <thead>\n",
              "    <tr style=\"text-align: right;\">\n",
              "      <th></th>\n",
              "      <th>NU_INSCRICAO</th>\n",
              "      <th>TP_FAIXA_ETARIA</th>\n",
              "      <th>TP_SEXO</th>\n",
              "      <th>TP_ESTADO_CIVIL</th>\n",
              "      <th>TP_COR_RACA</th>\n",
              "      <th>TP_NACIONALIDADE</th>\n",
              "      <th>TP_ESCOLA</th>\n",
              "      <th>TP_ENSINO</th>\n",
              "      <th>IN_TREINEIRO</th>\n",
              "      <th>SG_UF_ESC</th>\n",
              "      <th>...</th>\n",
              "      <th>TP_STATUS_REDACAO</th>\n",
              "      <th>NU_NOTA_REDACAO</th>\n",
              "      <th>Q001</th>\n",
              "      <th>Q002</th>\n",
              "      <th>Q003</th>\n",
              "      <th>Q004</th>\n",
              "      <th>Q005</th>\n",
              "      <th>Q006</th>\n",
              "      <th>Q024</th>\n",
              "      <th>Q025</th>\n",
              "    </tr>\n",
              "  </thead>\n",
              "  <tbody>\n",
              "    <tr>\n",
              "      <th>0</th>\n",
              "      <td>210053865474</td>\n",
              "      <td>5</td>\n",
              "      <td>F</td>\n",
              "      <td>1</td>\n",
              "      <td>1</td>\n",
              "      <td>1</td>\n",
              "      <td>1</td>\n",
              "      <td>NaN</td>\n",
              "      <td>0</td>\n",
              "      <td>NaN</td>\n",
              "      <td>...</td>\n",
              "      <td>1.0</td>\n",
              "      <td>760.0</td>\n",
              "      <td>F</td>\n",
              "      <td>F</td>\n",
              "      <td>B</td>\n",
              "      <td>B</td>\n",
              "      <td>3.0</td>\n",
              "      <td>D</td>\n",
              "      <td>B</td>\n",
              "      <td>B</td>\n",
              "    </tr>\n",
              "    <tr>\n",
              "      <th>1</th>\n",
              "      <td>210052384164</td>\n",
              "      <td>12</td>\n",
              "      <td>M</td>\n",
              "      <td>1</td>\n",
              "      <td>1</td>\n",
              "      <td>1</td>\n",
              "      <td>1</td>\n",
              "      <td>NaN</td>\n",
              "      <td>0</td>\n",
              "      <td>NaN</td>\n",
              "      <td>...</td>\n",
              "      <td>1.0</td>\n",
              "      <td>560.0</td>\n",
              "      <td>B</td>\n",
              "      <td>B</td>\n",
              "      <td>B</td>\n",
              "      <td>B</td>\n",
              "      <td>3.0</td>\n",
              "      <td>B</td>\n",
              "      <td>A</td>\n",
              "      <td>A</td>\n",
              "    </tr>\n",
              "    <tr>\n",
              "      <th>2</th>\n",
              "      <td>210052589243</td>\n",
              "      <td>13</td>\n",
              "      <td>F</td>\n",
              "      <td>3</td>\n",
              "      <td>1</td>\n",
              "      <td>1</td>\n",
              "      <td>1</td>\n",
              "      <td>NaN</td>\n",
              "      <td>0</td>\n",
              "      <td>NaN</td>\n",
              "      <td>...</td>\n",
              "      <td>NaN</td>\n",
              "      <td>NaN</td>\n",
              "      <td>B</td>\n",
              "      <td>C</td>\n",
              "      <td>C</td>\n",
              "      <td>B</td>\n",
              "      <td>3.0</td>\n",
              "      <td>C</td>\n",
              "      <td>B</td>\n",
              "      <td>B</td>\n",
              "    </tr>\n",
              "    <tr>\n",
              "      <th>3</th>\n",
              "      <td>210052128335</td>\n",
              "      <td>3</td>\n",
              "      <td>M</td>\n",
              "      <td>1</td>\n",
              "      <td>3</td>\n",
              "      <td>1</td>\n",
              "      <td>2</td>\n",
              "      <td>1.0</td>\n",
              "      <td>0</td>\n",
              "      <td>CE</td>\n",
              "      <td>...</td>\n",
              "      <td>1.0</td>\n",
              "      <td>780.0</td>\n",
              "      <td>B</td>\n",
              "      <td>B</td>\n",
              "      <td>B</td>\n",
              "      <td>B</td>\n",
              "      <td>6.0</td>\n",
              "      <td>B</td>\n",
              "      <td>B</td>\n",
              "      <td>B</td>\n",
              "    </tr>\n",
              "    <tr>\n",
              "      <th>4</th>\n",
              "      <td>210051353021</td>\n",
              "      <td>2</td>\n",
              "      <td>F</td>\n",
              "      <td>1</td>\n",
              "      <td>3</td>\n",
              "      <td>1</td>\n",
              "      <td>2</td>\n",
              "      <td>1.0</td>\n",
              "      <td>0</td>\n",
              "      <td>CE</td>\n",
              "      <td>...</td>\n",
              "      <td>1.0</td>\n",
              "      <td>780.0</td>\n",
              "      <td>D</td>\n",
              "      <td>E</td>\n",
              "      <td>F</td>\n",
              "      <td>D</td>\n",
              "      <td>4.0</td>\n",
              "      <td>C</td>\n",
              "      <td>B</td>\n",
              "      <td>B</td>\n",
              "    </tr>\n",
              "    <tr>\n",
              "      <th>...</th>\n",
              "      <td>...</td>\n",
              "      <td>...</td>\n",
              "      <td>...</td>\n",
              "      <td>...</td>\n",
              "      <td>...</td>\n",
              "      <td>...</td>\n",
              "      <td>...</td>\n",
              "      <td>...</td>\n",
              "      <td>...</td>\n",
              "      <td>...</td>\n",
              "      <td>...</td>\n",
              "      <td>...</td>\n",
              "      <td>...</td>\n",
              "      <td>...</td>\n",
              "      <td>...</td>\n",
              "      <td>...</td>\n",
              "      <td>...</td>\n",
              "      <td>...</td>\n",
              "      <td>...</td>\n",
              "      <td>...</td>\n",
              "      <td>...</td>\n",
              "    </tr>\n",
              "    <tr>\n",
              "      <th>3389827</th>\n",
              "      <td>210053249138</td>\n",
              "      <td>7</td>\n",
              "      <td>F</td>\n",
              "      <td>1</td>\n",
              "      <td>3</td>\n",
              "      <td>1</td>\n",
              "      <td>1</td>\n",
              "      <td>NaN</td>\n",
              "      <td>0</td>\n",
              "      <td>NaN</td>\n",
              "      <td>...</td>\n",
              "      <td>NaN</td>\n",
              "      <td>NaN</td>\n",
              "      <td>B</td>\n",
              "      <td>B</td>\n",
              "      <td>B</td>\n",
              "      <td>B</td>\n",
              "      <td>5.0</td>\n",
              "      <td>C</td>\n",
              "      <td>A</td>\n",
              "      <td>B</td>\n",
              "    </tr>\n",
              "    <tr>\n",
              "      <th>3389828</th>\n",
              "      <td>210053776013</td>\n",
              "      <td>7</td>\n",
              "      <td>F</td>\n",
              "      <td>1</td>\n",
              "      <td>1</td>\n",
              "      <td>1</td>\n",
              "      <td>1</td>\n",
              "      <td>NaN</td>\n",
              "      <td>0</td>\n",
              "      <td>NaN</td>\n",
              "      <td>...</td>\n",
              "      <td>NaN</td>\n",
              "      <td>NaN</td>\n",
              "      <td>E</td>\n",
              "      <td>E</td>\n",
              "      <td>A</td>\n",
              "      <td>F</td>\n",
              "      <td>4.0</td>\n",
              "      <td>G</td>\n",
              "      <td>B</td>\n",
              "      <td>B</td>\n",
              "    </tr>\n",
              "    <tr>\n",
              "      <th>3389829</th>\n",
              "      <td>210052441508</td>\n",
              "      <td>13</td>\n",
              "      <td>F</td>\n",
              "      <td>1</td>\n",
              "      <td>3</td>\n",
              "      <td>1</td>\n",
              "      <td>1</td>\n",
              "      <td>NaN</td>\n",
              "      <td>0</td>\n",
              "      <td>NaN</td>\n",
              "      <td>...</td>\n",
              "      <td>NaN</td>\n",
              "      <td>NaN</td>\n",
              "      <td>B</td>\n",
              "      <td>C</td>\n",
              "      <td>C</td>\n",
              "      <td>B</td>\n",
              "      <td>1.0</td>\n",
              "      <td>F</td>\n",
              "      <td>B</td>\n",
              "      <td>B</td>\n",
              "    </tr>\n",
              "    <tr>\n",
              "      <th>3389830</th>\n",
              "      <td>210051139675</td>\n",
              "      <td>7</td>\n",
              "      <td>F</td>\n",
              "      <td>1</td>\n",
              "      <td>1</td>\n",
              "      <td>1</td>\n",
              "      <td>1</td>\n",
              "      <td>NaN</td>\n",
              "      <td>0</td>\n",
              "      <td>NaN</td>\n",
              "      <td>...</td>\n",
              "      <td>1.0</td>\n",
              "      <td>660.0</td>\n",
              "      <td>E</td>\n",
              "      <td>D</td>\n",
              "      <td>C</td>\n",
              "      <td>B</td>\n",
              "      <td>4.0</td>\n",
              "      <td>E</td>\n",
              "      <td>C</td>\n",
              "      <td>B</td>\n",
              "    </tr>\n",
              "    <tr>\n",
              "      <th>3389831</th>\n",
              "      <td>210052410399</td>\n",
              "      <td>12</td>\n",
              "      <td>F</td>\n",
              "      <td>2</td>\n",
              "      <td>3</td>\n",
              "      <td>1</td>\n",
              "      <td>1</td>\n",
              "      <td>NaN</td>\n",
              "      <td>0</td>\n",
              "      <td>NaN</td>\n",
              "      <td>...</td>\n",
              "      <td>NaN</td>\n",
              "      <td>NaN</td>\n",
              "      <td>NaN</td>\n",
              "      <td>NaN</td>\n",
              "      <td>NaN</td>\n",
              "      <td>NaN</td>\n",
              "      <td>NaN</td>\n",
              "      <td>NaN</td>\n",
              "      <td>NaN</td>\n",
              "      <td>NaN</td>\n",
              "    </tr>\n",
              "  </tbody>\n",
              "</table>\n",
              "<p>3389832 rows × 31 columns</p>\n",
              "</div>\n",
              "      <button class=\"colab-df-convert\" onclick=\"convertToInteractive('df-b3be523b-2ac4-4c9a-9ac9-c5e7ae303374')\"\n",
              "              title=\"Convert this dataframe to an interactive table.\"\n",
              "              style=\"display:none;\">\n",
              "        \n",
              "  <svg xmlns=\"http://www.w3.org/2000/svg\" height=\"24px\"viewBox=\"0 0 24 24\"\n",
              "       width=\"24px\">\n",
              "    <path d=\"M0 0h24v24H0V0z\" fill=\"none\"/>\n",
              "    <path d=\"M18.56 5.44l.94 2.06.94-2.06 2.06-.94-2.06-.94-.94-2.06-.94 2.06-2.06.94zm-11 1L8.5 8.5l.94-2.06 2.06-.94-2.06-.94L8.5 2.5l-.94 2.06-2.06.94zm10 10l.94 2.06.94-2.06 2.06-.94-2.06-.94-.94-2.06-.94 2.06-2.06.94z\"/><path d=\"M17.41 7.96l-1.37-1.37c-.4-.4-.92-.59-1.43-.59-.52 0-1.04.2-1.43.59L10.3 9.45l-7.72 7.72c-.78.78-.78 2.05 0 2.83L4 21.41c.39.39.9.59 1.41.59.51 0 1.02-.2 1.41-.59l7.78-7.78 2.81-2.81c.8-.78.8-2.07 0-2.86zM5.41 20L4 18.59l7.72-7.72 1.47 1.35L5.41 20z\"/>\n",
              "  </svg>\n",
              "      </button>\n",
              "      \n",
              "  <style>\n",
              "    .colab-df-container {\n",
              "      display:flex;\n",
              "      flex-wrap:wrap;\n",
              "      gap: 12px;\n",
              "    }\n",
              "\n",
              "    .colab-df-convert {\n",
              "      background-color: #E8F0FE;\n",
              "      border: none;\n",
              "      border-radius: 50%;\n",
              "      cursor: pointer;\n",
              "      display: none;\n",
              "      fill: #1967D2;\n",
              "      height: 32px;\n",
              "      padding: 0 0 0 0;\n",
              "      width: 32px;\n",
              "    }\n",
              "\n",
              "    .colab-df-convert:hover {\n",
              "      background-color: #E2EBFA;\n",
              "      box-shadow: 0px 1px 2px rgba(60, 64, 67, 0.3), 0px 1px 3px 1px rgba(60, 64, 67, 0.15);\n",
              "      fill: #174EA6;\n",
              "    }\n",
              "\n",
              "    [theme=dark] .colab-df-convert {\n",
              "      background-color: #3B4455;\n",
              "      fill: #D2E3FC;\n",
              "    }\n",
              "\n",
              "    [theme=dark] .colab-df-convert:hover {\n",
              "      background-color: #434B5C;\n",
              "      box-shadow: 0px 1px 3px 1px rgba(0, 0, 0, 0.15);\n",
              "      filter: drop-shadow(0px 1px 2px rgba(0, 0, 0, 0.3));\n",
              "      fill: #FFFFFF;\n",
              "    }\n",
              "  </style>\n",
              "\n",
              "      <script>\n",
              "        const buttonEl =\n",
              "          document.querySelector('#df-b3be523b-2ac4-4c9a-9ac9-c5e7ae303374 button.colab-df-convert');\n",
              "        buttonEl.style.display =\n",
              "          google.colab.kernel.accessAllowed ? 'block' : 'none';\n",
              "\n",
              "        async function convertToInteractive(key) {\n",
              "          const element = document.querySelector('#df-b3be523b-2ac4-4c9a-9ac9-c5e7ae303374');\n",
              "          const dataTable =\n",
              "            await google.colab.kernel.invokeFunction('convertToInteractive',\n",
              "                                                     [key], {});\n",
              "          if (!dataTable) return;\n",
              "\n",
              "          const docLinkHtml = 'Like what you see? Visit the ' +\n",
              "            '<a target=\"_blank\" href=https://colab.research.google.com/notebooks/data_table.ipynb>data table notebook</a>'\n",
              "            + ' to learn more about interactive tables.';\n",
              "          element.innerHTML = '';\n",
              "          dataTable['output_type'] = 'display_data';\n",
              "          await google.colab.output.renderOutput(dataTable, element);\n",
              "          const docLink = document.createElement('div');\n",
              "          docLink.innerHTML = docLinkHtml;\n",
              "          element.appendChild(docLink);\n",
              "        }\n",
              "      </script>\n",
              "    </div>\n",
              "  </div>\n",
              "  "
            ]
          },
          "metadata": {},
          "execution_count": 72
        }
      ]
    },
    {
      "cell_type": "code",
      "source": [
        "base.dropna(subset = ['TP_ENSINO', 'TP_DEPENDENCIA_ADM_ESC']).shape"
      ],
      "metadata": {
        "colab": {
          "base_uri": "https://localhost:8080/"
        },
        "id": "joeTdCJQSUFG",
        "outputId": "fdcf465d-0846-4fd6-eecc-41aabbaff573"
      },
      "execution_count": 8,
      "outputs": [
        {
          "output_type": "execute_result",
          "data": {
            "text/plain": [
              "(780271, 31)"
            ]
          },
          "metadata": {},
          "execution_count": 8
        }
      ]
    },
    {
      "cell_type": "markdown",
      "source": [
        "> ### 2.2 Aplicando filtro de seleção de dados\n",
        "\n",
        "> * <p align = 'justify'>Além da limpeza de valores faltantes se fa necessário escolher quais serão os dados que serão usado no projeto. De antemão é possível levantar alguns desse filtro, por exmeplo, se faza sentido manter ou não áqueles que não compareceram a prova, já que os mesmos não possuem nota em plo um dia de prova.</p>"
      ],
      "metadata": {
        "id": "Kq3dgzBtUF7n"
      }
    },
    {
      "cell_type": "code",
      "source": [
        "x = base.loc[base['TP_PRESENCA_CH'] == 0]\n",
        "x = x.loc[x['TP_PRESENCA_CN'] == 0]\n",
        "x = x.loc[x['TP_PRESENCA_LC'] == 0]\n",
        "x = x.loc[x['TP_PRESENCA_MT'] == 0]\n",
        "\n",
        "x['Q006'].value_counts().sum()\n",
        "#base.groupby(['TP_PRESENCA_CH'])."
      ],
      "metadata": {
        "colab": {
          "base_uri": "https://localhost:8080/"
        },
        "id": "J9-M1QwaU5UM",
        "outputId": "47826f68-4a84-4187-9b1d-28ba582fa9c1"
      },
      "execution_count": 22,
      "outputs": [
        {
          "output_type": "execute_result",
          "data": {
            "text/plain": [
              "1000149"
            ]
          },
          "metadata": {},
          "execution_count": 22
        }
      ]
    },
    {
      "cell_type": "code",
      "source": [
        "1011453"
      ],
      "metadata": {
        "id": "1lJECL-aRd6n"
      },
      "execution_count": null,
      "outputs": []
    },
    {
      "cell_type": "code",
      "source": [],
      "metadata": {
        "colab": {
          "base_uri": "https://localhost:8080/"
        },
        "id": "b96Jja-vWk7_",
        "outputId": "468ead59-1069-425f-d674-de8ecff13825"
      },
      "execution_count": 23,
      "outputs": [
        {
          "output_type": "execute_result",
          "data": {
            "text/plain": [
              "11304"
            ]
          },
          "metadata": {},
          "execution_count": 23
        }
      ]
    }
  ]
}